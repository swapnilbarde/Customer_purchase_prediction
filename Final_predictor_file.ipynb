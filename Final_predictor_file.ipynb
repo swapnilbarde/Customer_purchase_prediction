{
 "cells": [
  {
   "cell_type": "code",
   "execution_count": 1,
   "id": "d817f1ed",
   "metadata": {},
   "outputs": [],
   "source": [
    "import pickle\n",
    "\n",
    "# load the model from disk\n",
    "loaded_model = pickle.load(open('finalized_model.sav', 'rb'))\n"
   ]
  },
  {
   "cell_type": "code",
   "execution_count": 2,
   "id": "0c2a5340",
   "metadata": {},
   "outputs": [
    {
     "name": "stdout",
     "output_type": "stream",
     "text": [
      "Input 1 for Male or 0 for Female: \n",
      "1\n",
      "Enter Age: \n",
      "24\n",
      "Enter Salary: \n",
      "41000\n",
      "The predicted output is that Customer won't likely make the purchase\n"
     ]
    }
   ],
   "source": [
    "#gender,age,salary = input(\"Enter three integer values for Gender,Age,Salary Respectively \").split()\n",
    "print(\"Input 1 for Male or 0 for Female: \")\n",
    "gender = int(input())\n",
    "print(\"Enter Age: \")\n",
    "age = int(input())\n",
    "print(\"Enter Salary: \")\n",
    "salary = int(input())\n",
    "\n",
    "if loaded_model.predict([[gender,age,salary]])==0:\n",
    "    print(\"The predicted output is that Customer won't likely make the purchase\")\n",
    "else:\n",
    "    print(\"The predicted output is that Customer will likely make the purchase\")"
   ]
  }
 ],
 "metadata": {
  "kernelspec": {
   "display_name": "Python 3",
   "language": "python",
   "name": "python3"
  },
  "language_info": {
   "codemirror_mode": {
    "name": "ipython",
    "version": 3
   },
   "file_extension": ".py",
   "mimetype": "text/x-python",
   "name": "python",
   "nbconvert_exporter": "python",
   "pygments_lexer": "ipython3",
   "version": "3.8.8"
  }
 },
 "nbformat": 4,
 "nbformat_minor": 5
}
